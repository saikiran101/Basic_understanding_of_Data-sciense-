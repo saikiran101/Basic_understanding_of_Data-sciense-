{
 "cells": [
  {
   "cell_type": "markdown",
   "id": "77dd9055-9052-4d02-b68e-9c68c6d888aa",
   "metadata": {},
   "source": [
    "# Pandas - Panel Data"
   ]
  },
  {
   "cell_type": "markdown",
   "id": "911d5c1a-df4f-4c28-9241-d85c7c0209f5",
   "metadata": {},
   "source": [
    "Agenda\n",
    "- Fundamentals\n",
    "    * purpose\n",
    "    * features\n",
    "- Data Structure\n",
    "    * Series\n",
    "    * DataFrame\n",
    "- Series\n",
    "    * How to create series\n",
    "    * BAsic Operations/Informations\n",
    "    * Query in Series\n",
    "- DataFrame\n",
    "    * Creating DataFrames\n",
    "    * Accessing DataFrame\n",
    "    * Understanding DataFrame\n",
    "    * Statistical Ops in DataFrame\n",
    "        - Descriptive Statistics\n",
    "        - Correlation Analysis\n",
    "- Date and TimeDelta"
   ]
  },
  {
   "cell_type": "code",
   "execution_count": 2,
   "id": "13b66e15-2272-450b-821c-35d18592d0a6",
   "metadata": {},
   "outputs": [],
   "source": [
    "# Installing Pandas\n",
    "# !pip install pandas"
   ]
  },
  {
   "cell_type": "code",
   "execution_count": 5,
   "id": "dd4e0e26-f778-41b2-b9f7-65722a0c5da6",
   "metadata": {},
   "outputs": [],
   "source": [
    "# Import pandas  and numpy\n",
    "import pandas as pd\n",
    "import numpy as np"
   ]
  },
  {
   "cell_type": "code",
   "execution_count": 4,
   "id": "a876f182-2e42-4c2a-89b6-ff7c6f64f7ee",
   "metadata": {},
   "outputs": [],
   "source": [
    "# Series -  Series is a One Dimensional array like object that contains the data and the labels/index"
   ]
  },
  {
   "cell_type": "code",
   "execution_count": 6,
   "id": "437dcb21-562a-4c9d-ae3d-64e27a9276ae",
   "metadata": {},
   "outputs": [],
   "source": [
    "A = np.array([5,2,5,3,4])"
   ]
  },
  {
   "cell_type": "code",
   "execution_count": 7,
   "id": "1e2be6aa-c72b-44ba-b9bd-2831577d8c51",
   "metadata": {},
   "outputs": [
    {
     "name": "stdout",
     "output_type": "stream",
     "text": [
      "[5 2 5 3 4]\n"
     ]
    }
   ],
   "source": [
    "print(A)"
   ]
  },
  {
   "cell_type": "code",
   "execution_count": 8,
   "id": "7d5128da-a7a2-4f4c-9c41-3b53210f063a",
   "metadata": {},
   "outputs": [
    {
     "name": "stdout",
     "output_type": "stream",
     "text": [
      "0    5\n",
      "1    2\n",
      "2    5\n",
      "3    3\n",
      "4    4\n",
      "dtype: int64\n"
     ]
    }
   ],
   "source": [
    "S =  pd.Series([5,2,5,3,4])\n",
    "print(S)"
   ]
  },
  {
   "cell_type": "code",
   "execution_count": 9,
   "id": "f92a9c97-cabb-4084-afb4-d84dd6d88ad2",
   "metadata": {},
   "outputs": [
    {
     "name": "stdout",
     "output_type": "stream",
     "text": [
      "Shirts    5\n",
      "Polos     2\n",
      "Chinos    5\n",
      "Tie       3\n",
      "Shoes     4\n",
      "dtype: int64\n"
     ]
    }
   ],
   "source": [
    "S2 =  pd.Series([5,2,5,3,4], index = ['Shirts','Polos', 'Chinos', 'Tie', 'Shoes'])\n",
    "print(S2)"
   ]
  },
  {
   "cell_type": "code",
   "execution_count": 10,
   "id": "d76481c9-d094-4b3d-a532-9ad85e2a5dd2",
   "metadata": {},
   "outputs": [
    {
     "name": "stdout",
     "output_type": "stream",
     "text": [
      "Shirts    5\n",
      "Polos     2\n",
      "Chinos    5\n",
      "Tie       3\n",
      "Shoes     4\n",
      "dtype: int64\n"
     ]
    }
   ],
   "source": []
  },
  {
   "cell_type": "code",
   "execution_count": 12,
   "id": "80892aeb-8227-45c6-905b-2b6dba2d8bce",
   "metadata": {},
   "outputs": [],
   "source": [
    "# Syntax  -  pd.Series(<list of values>, index = <list of index names>)\n",
    "# Syntax  -  pd.Series(dictionary) --- This will make keys of the dictionary as index and values as the data"
   ]
  },
  {
   "cell_type": "code",
   "execution_count": 13,
   "id": "fc8d8b76-4d8e-4d8d-88c5-97d6c1d3a106",
   "metadata": {},
   "outputs": [],
   "source": [
    "# Creating Series from a dictionary"
   ]
  },
  {
   "cell_type": "code",
   "execution_count": 37,
   "id": "86e9973b-3d01-4b86-a2aa-951d813bc31a",
   "metadata": {},
   "outputs": [],
   "source": [
    "d1 = {'Shirts': 20, 'polos' :40.0, 'Jeans':24, 'name': 'Jitendra'}"
   ]
  },
  {
   "cell_type": "code",
   "execution_count": 38,
   "id": "9dbacd41-4916-4826-9eb9-561647a09644",
   "metadata": {},
   "outputs": [],
   "source": [
    "s3 = pd.Series(d1)"
   ]
  },
  {
   "cell_type": "code",
   "execution_count": 39,
   "id": "a00b01d2-49a8-4814-a509-b20cc5116650",
   "metadata": {
    "tags": []
   },
   "outputs": [
    {
     "name": "stdout",
     "output_type": "stream",
     "text": [
      "Shirts          20\n",
      "polos         40.0\n",
      "Jeans           24\n",
      "name      Jitendra\n",
      "dtype: object\n"
     ]
    }
   ],
   "source": [
    "print(s3)"
   ]
  },
  {
   "cell_type": "raw",
   "id": "65a618fb-fc6f-49b6-a5ae-96defbe698db",
   "metadata": {},
   "source": [
    "# if an index parameter is passed in series function while creating series using a dictionary, it will create the series with the specified index filling with values of matching keys from dictionary"
   ]
  },
  {
   "cell_type": "code",
   "execution_count": 40,
   "id": "4d43d22d-3741-4fd6-a74e-6d62c94fa7fb",
   "metadata": {},
   "outputs": [],
   "source": [
    "s4 = pd.Series(d1, index = ['Jeans','Wallet','Shirts', 'Tie'])"
   ]
  },
  {
   "cell_type": "code",
   "execution_count": 41,
   "id": "853bf627-7180-4371-937c-f21528b5335b",
   "metadata": {
    "tags": []
   },
   "outputs": [
    {
     "name": "stdout",
     "output_type": "stream",
     "text": [
      "Jeans      24\n",
      "Wallet    NaN\n",
      "Shirts     20\n",
      "Tie       NaN\n",
      "dtype: object\n"
     ]
    }
   ],
   "source": [
    "print(s4)"
   ]
  },
  {
   "cell_type": "code",
   "execution_count": 31,
   "id": "428fbd2b-8a15-4d30-b090-fbaa947d9da6",
   "metadata": {},
   "outputs": [],
   "source": [
    "# In Pandas the basic datatypes int, float, bool, datetime, category, object"
   ]
  },
  {
   "cell_type": "code",
   "execution_count": 29,
   "id": "2cbaea3f-bf8b-4eea-8860-58b3ac1083d7",
   "metadata": {},
   "outputs": [],
   "source": [
    "# Accessing Series Data"
   ]
  },
  {
   "cell_type": "code",
   "execution_count": 42,
   "id": "097004a3-c4e1-4dd7-b1a8-5bfc66f11b7b",
   "metadata": {},
   "outputs": [
    {
     "name": "stdout",
     "output_type": "stream",
     "text": [
      "Shirts          20\n",
      "polos         40.0\n",
      "Jeans           24\n",
      "name      Jitendra\n",
      "dtype: object\n"
     ]
    }
   ],
   "source": [
    "print(s3)"
   ]
  },
  {
   "cell_type": "code",
   "execution_count": 43,
   "id": "34e917ee-9525-45ab-850e-eb2b34262f8e",
   "metadata": {},
   "outputs": [
    {
     "name": "stdout",
     "output_type": "stream",
     "text": [
      "24\n"
     ]
    }
   ],
   "source": [
    "print(s3[2])"
   ]
  },
  {
   "cell_type": "code",
   "execution_count": 44,
   "id": "2afd4559-67f3-4b3e-bbd9-2e1cf4abc605",
   "metadata": {},
   "outputs": [
    {
     "name": "stdout",
     "output_type": "stream",
     "text": [
      "24\n"
     ]
    }
   ],
   "source": [
    "print(s3['Jeans'])"
   ]
  },
  {
   "cell_type": "code",
   "execution_count": 45,
   "id": "553879c8-f3a1-44d5-b7ac-43016ca9caf5",
   "metadata": {},
   "outputs": [
    {
     "name": "stdout",
     "output_type": "stream",
     "text": [
      "24\n"
     ]
    }
   ],
   "source": [
    "print(s3.Jeans)"
   ]
  },
  {
   "cell_type": "code",
   "execution_count": 46,
   "id": "4b809ee6-4171-4980-aee7-9eecc29b5f59",
   "metadata": {},
   "outputs": [
    {
     "name": "stdout",
     "output_type": "stream",
     "text": [
      "20------<class 'int'>\n",
      "40.0------<class 'float'>\n",
      "24------<class 'int'>\n",
      "Jitendra------<class 'str'>\n"
     ]
    }
   ],
   "source": [
    "print(s3[0], type(s3[0]), sep = '------')\n",
    "print(s3[1], type(s3[1]), sep = '------')\n",
    "print(s3[2], type(s3[2]), sep = '------')\n",
    "print(s3[3], type(s3[3]), sep = '------')"
   ]
  },
  {
   "cell_type": "code",
   "execution_count": 47,
   "id": "d5490035-3e85-4ea2-a630-504efae28c47",
   "metadata": {},
   "outputs": [],
   "source": [
    "s3.Jeans = 90"
   ]
  },
  {
   "cell_type": "code",
   "execution_count": 48,
   "id": "ff397036-69d2-4f6d-a0d0-9c728d10381a",
   "metadata": {},
   "outputs": [
    {
     "name": "stdout",
     "output_type": "stream",
     "text": [
      "Shirts          20\n",
      "polos         40.0\n",
      "Jeans           90\n",
      "name      Jitendra\n",
      "dtype: object\n"
     ]
    }
   ],
   "source": [
    "print(s3)"
   ]
  },
  {
   "cell_type": "code",
   "execution_count": 54,
   "id": "938aa0c8-a287-4f91-982f-c43c48851ead",
   "metadata": {},
   "outputs": [],
   "source": [
    "s3['wallet'] = 100"
   ]
  },
  {
   "cell_type": "code",
   "execution_count": 55,
   "id": "f319ed5b-33e0-4177-b345-70bde6663eba",
   "metadata": {},
   "outputs": [
    {
     "name": "stdout",
     "output_type": "stream",
     "text": [
      "Shirts          20\n",
      "polos         40.0\n",
      "Jeans           90\n",
      "name      Jitendra\n",
      "wallet         100\n",
      "dtype: object\n"
     ]
    }
   ],
   "source": [
    "print(s3)"
   ]
  },
  {
   "cell_type": "code",
   "execution_count": 56,
   "id": "2a418d2c-7ff4-420a-b347-28bbde3fb370",
   "metadata": {},
   "outputs": [],
   "source": [
    "# Attributes and functions of Series"
   ]
  },
  {
   "cell_type": "code",
   "execution_count": 57,
   "id": "40c64ac9-9da2-469a-9241-e314e1cd3ce0",
   "metadata": {},
   "outputs": [
    {
     "name": "stdout",
     "output_type": "stream",
     "text": [
      "1\n",
      "(5,)\n",
      "5\n",
      "object\n",
      "Index(['Shirts', 'polos', 'Jeans', 'name', 'wallet'], dtype='object')\n",
      "[20 40.0 90 'Jitendra' 100]\n"
     ]
    }
   ],
   "source": [
    "print(s3.ndim) # 1\n",
    "print(s3.shape) # (5,)\n",
    "print(s3.size) # 5\n",
    "print(s3.dtype) # object\n",
    "print(s3.index) # list of indices\n",
    "print(s3.values) # array of data"
   ]
  },
  {
   "cell_type": "code",
   "execution_count": 58,
   "id": "97430998-12f5-4a4d-b80e-5e9bfda8983d",
   "metadata": {},
   "outputs": [
    {
     "data": {
      "text/plain": [
       "Shirts          20\n",
       "polos         40.0\n",
       "Jeans           90\n",
       "name      Jitendra\n",
       "wallet         100\n",
       "dtype: object"
      ]
     },
     "execution_count": 58,
     "metadata": {},
     "output_type": "execute_result"
    }
   ],
   "source": [
    "s3.head()"
   ]
  },
  {
   "cell_type": "code",
   "execution_count": 59,
   "id": "2860250b-0aac-4002-b2ec-8e7dfe374bd7",
   "metadata": {},
   "outputs": [
    {
     "data": {
      "text/plain": [
       "Shirts      20\n",
       "polos     40.0\n",
       "Jeans       90\n",
       "dtype: object"
      ]
     },
     "execution_count": 59,
     "metadata": {},
     "output_type": "execute_result"
    }
   ],
   "source": [
    "s3.head(3)"
   ]
  },
  {
   "cell_type": "code",
   "execution_count": 60,
   "id": "39b98011-3a17-4aef-b8fd-de931c594529",
   "metadata": {},
   "outputs": [
    {
     "data": {
      "text/plain": [
       "Shirts          20\n",
       "polos         40.0\n",
       "Jeans           90\n",
       "name      Jitendra\n",
       "wallet         100\n",
       "dtype: object"
      ]
     },
     "execution_count": 60,
     "metadata": {},
     "output_type": "execute_result"
    }
   ],
   "source": [
    "s3.tail()"
   ]
  },
  {
   "cell_type": "code",
   "execution_count": 61,
   "id": "b00e0720-b20a-4986-b119-f49ec081d9d5",
   "metadata": {},
   "outputs": [
    {
     "data": {
      "text/plain": [
       "name      Jitendra\n",
       "wallet         100\n",
       "dtype: object"
      ]
     },
     "execution_count": 61,
     "metadata": {},
     "output_type": "execute_result"
    }
   ],
   "source": [
    "s3.tail(2)"
   ]
  },
  {
   "cell_type": "code",
   "execution_count": 62,
   "id": "b5928ec4-dee8-4f5e-a9a2-5474af857188",
   "metadata": {},
   "outputs": [
    {
     "data": {
      "text/plain": [
       "count      5\n",
       "unique     5\n",
       "top       20\n",
       "freq       1\n",
       "dtype: int64"
      ]
     },
     "execution_count": 62,
     "metadata": {},
     "output_type": "execute_result"
    }
   ],
   "source": [
    "s3.describe() # Generate descriptive Statistics - count, mean, std, min, 25th, 50th, 75th, max for numerical dtype\n",
    "                                                 # count, unique, top, freq   "
   ]
  },
  {
   "cell_type": "code",
   "execution_count": 69,
   "id": "7454e9e4-d902-42ac-8c8b-0bb6ad285e9a",
   "metadata": {},
   "outputs": [],
   "source": [
    "s3['age'] = 40.0\n",
    "s3['sd'] =20"
   ]
  },
  {
   "cell_type": "code",
   "execution_count": 70,
   "id": "dca54b30-74e7-49f3-af42-2ab134751b7c",
   "metadata": {},
   "outputs": [
    {
     "name": "stdout",
     "output_type": "stream",
     "text": [
      "Shirts          20\n",
      "polos         40.0\n",
      "Jeans           90\n",
      "name      Jitendra\n",
      "wallet         100\n",
      "age           40.0\n",
      "sd              20\n",
      "dtype: object\n"
     ]
    }
   ],
   "source": [
    "print(s3)"
   ]
  },
  {
   "cell_type": "code",
   "execution_count": 71,
   "id": "a6e4ccc8-00c5-426e-a6be-5996eca8c01a",
   "metadata": {},
   "outputs": [
    {
     "data": {
      "text/plain": [
       "count      7\n",
       "unique     5\n",
       "top       20\n",
       "freq       2\n",
       "dtype: int64"
      ]
     },
     "execution_count": 71,
     "metadata": {},
     "output_type": "execute_result"
    }
   ],
   "source": [
    "s3.describe()"
   ]
  },
  {
   "cell_type": "code",
   "execution_count": 72,
   "id": "a4013573-79fe-41b2-bf5d-bdd28bca5917",
   "metadata": {},
   "outputs": [
    {
     "data": {
      "text/plain": [
       "count    5.00000\n",
       "mean     3.80000\n",
       "std      1.30384\n",
       "min      2.00000\n",
       "25%      3.00000\n",
       "50%      4.00000\n",
       "75%      5.00000\n",
       "max      5.00000\n",
       "dtype: float64"
      ]
     },
     "execution_count": 72,
     "metadata": {},
     "output_type": "execute_result"
    }
   ],
   "source": [
    "S2.describe()"
   ]
  },
  {
   "cell_type": "code",
   "execution_count": 76,
   "id": "ad3a1de7-eed1-4237-9831-116e5db77bdf",
   "metadata": {},
   "outputs": [
    {
     "data": {
      "text/plain": [
       "2.4"
      ]
     },
     "execution_count": 76,
     "metadata": {},
     "output_type": "execute_result"
    }
   ],
   "source": [
    "np.percentile(S2.values, 10)"
   ]
  },
  {
   "cell_type": "code",
   "execution_count": 78,
   "id": "bc9edee2-3c5c-451a-9b3e-feeb3ce61429",
   "metadata": {},
   "outputs": [
    {
     "data": {
      "text/plain": [
       "Shirts    5\n",
       "Polos     2\n",
       "Chinos    5\n",
       "Tie       3\n",
       "Shoes     4\n",
       "dtype: int64"
      ]
     },
     "execution_count": 78,
     "metadata": {},
     "output_type": "execute_result"
    }
   ],
   "source": [
    "S2"
   ]
  },
  {
   "cell_type": "code",
   "execution_count": 80,
   "id": "66c01143-f762-4070-aa9d-ebe74e232aa3",
   "metadata": {},
   "outputs": [
    {
     "name": "stdout",
     "output_type": "stream",
     "text": [
      "Shirts          20\n",
      "polos         40.0\n",
      "Jeans           90\n",
      "name      Jitendra\n",
      "wallet         100\n",
      "age           40.0\n",
      "sd              20\n",
      "dtype: object\n"
     ]
    }
   ],
   "source": [
    "print(s3)"
   ]
  },
  {
   "cell_type": "code",
   "execution_count": 79,
   "id": "c1565cb7-6e64-4444-92d6-128eda8d6390",
   "metadata": {},
   "outputs": [
    {
     "data": {
      "text/plain": [
       "array([20, 40.0, 90, 'Jitendra', 100], dtype=object)"
      ]
     },
     "execution_count": 79,
     "metadata": {},
     "output_type": "execute_result"
    }
   ],
   "source": [
    "s3.unique()"
   ]
  },
  {
   "cell_type": "code",
   "execution_count": 81,
   "id": "01a0fb0b-b8a1-47c3-a93c-2298355d891d",
   "metadata": {},
   "outputs": [
    {
     "data": {
      "text/plain": [
       "5"
      ]
     },
     "execution_count": 81,
     "metadata": {},
     "output_type": "execute_result"
    }
   ],
   "source": [
    "s3.nunique()"
   ]
  },
  {
   "cell_type": "code",
   "execution_count": 82,
   "id": "445ffedf-7e3e-4e63-9a45-b0139adf3ede",
   "metadata": {},
   "outputs": [
    {
     "data": {
      "text/plain": [
       "polos    40.0\n",
       "age      40.0\n",
       "dtype: object"
      ]
     },
     "execution_count": 82,
     "metadata": {},
     "output_type": "execute_result"
    }
   ],
   "source": [
    "s3[s3 == 40.0]"
   ]
  },
  {
   "cell_type": "code",
   "execution_count": 83,
   "id": "a12a399b-67cd-4db3-a7cf-f4d932b66d5e",
   "metadata": {},
   "outputs": [
    {
     "data": {
      "text/plain": [
       "20          2\n",
       "40.0        2\n",
       "90          1\n",
       "Jitendra    1\n",
       "100         1\n",
       "dtype: int64"
      ]
     },
     "execution_count": 83,
     "metadata": {},
     "output_type": "execute_result"
    }
   ],
   "source": [
    "s3.value_counts()"
   ]
  },
  {
   "cell_type": "code",
   "execution_count": 84,
   "id": "73dc7563-ea58-4637-92da-15b58efc05cd",
   "metadata": {},
   "outputs": [],
   "source": [
    "#Operations And Transformations"
   ]
  },
  {
   "cell_type": "raw",
   "id": "041c9c44-209f-4020-8c4d-eea462f2b35a",
   "metadata": {},
   "source": [
    "() -  Paranthesis- function creation, function call, represent a tuple, create an expression\n",
    "{} -  Curly Brackets -  create dictionaries, create sets, string formatting\n",
    "[] -  Square Brackets - to create list, to specify index/slice"
   ]
  },
  {
   "cell_type": "code",
   "execution_count": null,
   "id": "2bf944da-e301-4468-a318-98903f23a008",
   "metadata": {},
   "outputs": [],
   "source": []
  }
 ],
 "metadata": {
  "kernelspec": {
   "display_name": "Python 3 [3.10]",
   "language": "python",
   "name": "python3"
  },
  "language_info": {
   "codemirror_mode": {
    "name": "ipython",
    "version": 3
   },
   "file_extension": ".py",
   "mimetype": "text/x-python",
   "name": "python",
   "nbconvert_exporter": "python",
   "pygments_lexer": "ipython3",
   "version": "3.10.2"
  }
 },
 "nbformat": 4,
 "nbformat_minor": 5
}
