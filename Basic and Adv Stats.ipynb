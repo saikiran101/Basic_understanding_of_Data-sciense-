{
 "cells": [
  {
   "cell_type": "markdown",
   "id": "b69053de-5101-4585-b92e-4db855370621",
   "metadata": {},
   "source": [
    "# Statistics \n",
    "- Descriptive Statistics \n",
    "    - Measures of Central Tendency\n",
    "        - Mean \n",
    "        - Median \n",
    "        - Mode\n",
    "    - Measure of Dispersion / Spread \n",
    "        - Range\n",
    "        - InterQuartile Range\n",
    "        - Standard Deviation\n",
    "        - Variance\n",
    "    - Measure of Shape\n",
    "        - Skewness \n",
    "        - Kurtosis\n",
    "    - Covariance \n",
    "    - Correlation\n",
    "- Inferential Statistics\n",
    "    - Hypothesis Testing \n",
    "    - H0, H1\n",
    "    - T test, Z test\n",
    "    - Chi square Test\n",
    "    - ANOVA Test\n"
   ]
  },
  {
   "cell_type": "markdown",
   "id": "e479e613-efe8-4250-aaef-7cc259b26ac4",
   "metadata": {},
   "source": [
    "### Common Terminologies used in Statistics\n",
    "\n",
    " - Population - Complete Data Pool\n",
    " - Sample -  A part of Population data chosen randomly such that it represents the entire population\n",
    " - Parameter - Any statistical values calculated for population data is termed as parameter\n",
    " - Statistic - Any statistical values calculated for Sample data is termed as statistic\n",
    " - Variable - Something that take different possible values\n",
    " - Distribution -  How a data is spread across in a defined range of values"
   ]
  },
  {
   "cell_type": "markdown",
   "id": "8ccb03a2-1af1-4063-bedd-928067237f54",
   "metadata": {},
   "source": [
    "#### Types of Data\n",
    " \n",
    "- Categorical Data\n",
    "    - Ordinal -  Data is categories and can be ranked\n",
    "    - Nominal Data -  Data is categories and not ranked\n",
    "    - Ratio - categorized data with rank with even spacing and has natural Zero\n",
    "    - Interval Data - categorized data with rank with even spacing\n",
    "- Numerical Data\n",
    "    - Continuos \n",
    "    - Discrete"
   ]
  },
  {
   "cell_type": "raw",
   "id": "a4e3475c-184e-4644-b0bd-1ef6de7391a9",
   "metadata": {
    "tags": []
   },
   "source": [
    "# Measure Of Central Tendency  - it is summary  that describes the central value of the data\n",
    "\n",
    "# Mean  =  Sum of all Data Points/ no. of all data points - Population Data\n",
    "# Sample mean =      Sum of all Data Points in sample/ (no. of all data points  in sample -1) \n",
    "\n",
    "# Note:  A bessel's Correction is applied in sample statistic by subtraction 1 from the sample size while \n",
    "#        calculating if the sample size is the denominator the evaluation\n",
    "# Mean is sentitive to outliers/ skewed Data\n",
    "\n",
    "\n",
    "# Median - The centrally located value, if we have odd data points  otherwise for even data points its the average central 2 values . It can also be said as 50th percentile value, coined as Q2. The Data needs to be a  sorted order (preferably ASC)\n",
    "\n",
    "# Mode  =  This parameter can also be used for non numeric data. Its the most frequent term of the data points"
   ]
  },
  {
   "cell_type": "markdown",
   "id": "354ae5ec-4aed-4ef7-a9e2-91434e3f8389",
   "metadata": {},
   "source": [
    "$ \\mu = (\\Sigma x_{i})/N $"
   ]
  },
  {
   "cell_type": "code",
   "execution_count": 2,
   "id": "b91a98e7-c4dc-4ee8-a5f5-2b9de7a3c6c9",
   "metadata": {
    "tags": []
   },
   "outputs": [],
   "source": [
    "import statistics"
   ]
  },
  {
   "cell_type": "code",
   "execution_count": 3,
   "id": "2bc9aa67-9905-4f6c-84fc-0205d68c721f",
   "metadata": {
    "tags": []
   },
   "outputs": [
    {
     "data": {
      "text/plain": [
       "240"
      ]
     },
     "execution_count": 3,
     "metadata": {},
     "output_type": "execute_result"
    }
   ],
   "source": [
    "statistics.mean([100, 200, 250, 300, 350])"
   ]
  },
  {
   "cell_type": "code",
   "execution_count": 4,
   "id": "a5f01691-8fc8-4d25-847a-04b53d10aa9d",
   "metadata": {
    "tags": []
   },
   "outputs": [
    {
     "data": {
      "text/plain": [
       "250"
      ]
     },
     "execution_count": 4,
     "metadata": {},
     "output_type": "execute_result"
    }
   ],
   "source": [
    "statistics.median([100, 200, 250, 300, 350])"
   ]
  },
  {
   "cell_type": "code",
   "execution_count": 6,
   "id": "146fec04-ab28-4d56-98a0-f463ed301810",
   "metadata": {
    "tags": []
   },
   "outputs": [
    {
     "data": {
      "text/plain": [
       "300"
      ]
     },
     "execution_count": 6,
     "metadata": {},
     "output_type": "execute_result"
    }
   ],
   "source": [
    "statistics.mode([300,100, 200, 250,  350])"
   ]
  },
  {
   "cell_type": "code",
   "execution_count": 8,
   "id": "66a4da63-9e0f-4b28-afb6-717b1a3d9249",
   "metadata": {
    "tags": []
   },
   "outputs": [],
   "source": [
    "List = ['Apple','Samsung','Apple','Samsung','Apple','Samsung','Samsung','Apple','Samsung','Apple','Samsung','Apple','Samsung']"
   ]
  },
  {
   "cell_type": "code",
   "execution_count": 9,
   "id": "d42c8e25-2090-494e-ae57-4ccf69af533f",
   "metadata": {
    "tags": []
   },
   "outputs": [
    {
     "data": {
      "text/plain": [
       "'Samsung'"
      ]
     },
     "execution_count": 9,
     "metadata": {},
     "output_type": "execute_result"
    }
   ],
   "source": [
    "statistics.mode(List)"
   ]
  },
  {
   "cell_type": "markdown",
   "id": "8e48aa9c-7724-4963-a66f-36c311c89746",
   "metadata": {},
   "source": [
    "#### Measure of Dispersion"
   ]
  },
  {
   "cell_type": "markdown",
   "id": "6dda5a9c-f146-4fdf-89de-0b62c2295918",
   "metadata": {},
   "source": [
    "##### Range\n",
    "- The Difference between Largest and smallest Data points  (Max - Min)\n",
    "##### Inter Quartile Range\n",
    "- The range difference between 75th percentile and 25th percentile (Q3- Q1)"
   ]
  },
  {
   "cell_type": "code",
   "execution_count": 11,
   "id": "f89bf06c-dd8e-478b-a718-bf42a768aff2",
   "metadata": {
    "tags": []
   },
   "outputs": [],
   "source": [
    "import numpy as np"
   ]
  },
  {
   "cell_type": "code",
   "execution_count": 16,
   "id": "245ae3e5-2713-4db0-bc6a-d711e9adbc8d",
   "metadata": {
    "tags": []
   },
   "outputs": [],
   "source": [
    "l1= [1,2,3,4,5,6,7,8,9,15]"
   ]
  },
  {
   "cell_type": "code",
   "execution_count": 17,
   "id": "df994c28-1027-4c02-a2ff-c3203d8ce46b",
   "metadata": {
    "tags": []
   },
   "outputs": [],
   "source": [
    "Q1 = np.percentile(l1, 25)\n",
    "Q3 = np.percentile(l1, 75)\n",
    "\n",
    "IQR =  Q3- Q1"
   ]
  },
  {
   "cell_type": "code",
   "execution_count": 18,
   "id": "86159418-7913-4704-ac36-91ba28f94f0d",
   "metadata": {
    "tags": []
   },
   "outputs": [],
   "source": [
    "# To find outliers we find the lower bounds and upper bounds"
   ]
  },
  {
   "cell_type": "code",
   "execution_count": 19,
   "id": "11e10827-445f-42bd-9069-f32d795bce14",
   "metadata": {
    "tags": []
   },
   "outputs": [
    {
     "name": "stdout",
     "output_type": "stream",
     "text": [
      "-3.5 14.5\n"
     ]
    }
   ],
   "source": [
    "lb  =  Q1 - 1.5 * IQR\n",
    "ub  =  Q3 + 1.5 * IQR\n",
    "print(lb, ub)"
   ]
  },
  {
   "cell_type": "code",
   "execution_count": 21,
   "id": "ab97b8b8-550e-4f92-a965-c5cb412bfac8",
   "metadata": {
    "tags": []
   },
   "outputs": [],
   "source": [
    "X = np.array([1,2,3,4,5,6])\n",
    "statistics.mean(X)\n",
    "statistics.mean([1,2,3,4,5,6])"
   ]
  },
  {
   "cell_type": "code",
   "execution_count": null,
   "id": "5d614ffb-7b20-42e6-ab8f-4e055092bb18",
   "metadata": {},
   "outputs": [],
   "source": [
    "# Standard Deviation  - Measure of dispersion around mean - Average deviation of each data point from the mean values."
   ]
  },
  {
   "cell_type": "code",
   "execution_count": 28,
   "id": "0a902d88-10c7-4711-9d17-111da20c3e42",
   "metadata": {
    "tags": []
   },
   "outputs": [],
   "source": [
    "# Variance - Square of standard Deviation"
   ]
  },
  {
   "cell_type": "code",
   "execution_count": 29,
   "id": "ca3846dd-53cf-4d59-898d-81d59bee1036",
   "metadata": {
    "tags": []
   },
   "outputs": [],
   "source": [
    "# Co Variance - Depicts the Variation in terms of sign between two data columns\n",
    "# Correlation  - gives the magnitude of relation among two data columns in a range -1 to +1 where 0 means no correlation"
   ]
  },
  {
   "cell_type": "markdown",
   "id": "ec09eebf-e2a3-490c-9138-049cccc563e2",
   "metadata": {},
   "source": [
    "#### Measure of Shape"
   ]
  },
  {
   "cell_type": "raw",
   "id": "f7f76408-e16d-4054-aaca-a9ac49704351",
   "metadata": {
    "tags": []
   },
   "source": [
    "Skewness  - Deviation from horizontal symmetry . Measured as 3(mean- median)/standard Deviation\n",
    "Kurtosis -  deviations in the tails of the data . Measures as  sum of 4th power of  devaition from mean/ 4th power of S.D."
   ]
  },
  {
   "cell_type": "markdown",
   "id": "61da40f6-a4eb-423f-a9f6-6a6bd285da2c",
   "metadata": {},
   "source": [
    "# Probability Distribution"
   ]
  },
  {
   "cell_type": "raw",
   "id": "48ade2d1-1109-4c28-bff3-df1d7d89e782",
   "metadata": {},
   "source": [
    "A probability can be calculated as no of favorable events/ all possible events. Total probability is 1 for event. The probability distribution is distribution of probabilties for all possible outcomes.\n",
    "The data may be a discrete data or a continuous data. \n",
    "the probability distribution for a disrete data is calculated using a function called  probabilty mass function\n",
    " - Bernouli Distribution\n",
    " - Binomial Distribution\n",
    " - Poisson Distribution\n",
    "the probability distribution for a continuous data is calculated using a function called probabilty density function\n",
    " - Normal Distribution\n",
    " - Uniform Distribution\n"
   ]
  },
  {
   "cell_type": "raw",
   "id": "d4c72766-015e-46ff-9df1-dc1b8e408258",
   "metadata": {
    "tags": []
   },
   "source": [
    "Discrete Probability Distribution\n",
    "Experiment - Toss 3 fair coins and find out the probability distribution of outcomes\n",
    "\n",
    "1 2 3\n",
    "H H H\n",
    "H H T\n",
    "H T H\n",
    "T H H\n",
    "H T T\n",
    "T H T\n",
    "T T H\n",
    "T T T"
   ]
  },
  {
   "cell_type": "markdown",
   "id": "e110dbdf-22e5-453d-93a3-cb22255ea3b2",
   "metadata": {
    "tags": []
   },
   "source": [
    "#### Continuos Probability Distribution:\n",
    "Normal Distribution is calculated based on the mean and the standard deviation ant continuous data. Standard Normal Distribution will have mean  as 0 and standard deviation as 1. For other continuous probabilty distribution the probailities are calculated using  the z Score formula. i.e \n",
    "                        \n",
    "Z = (X - $ \\mu $)/ $\\sigma $\n",
    "\n"
   ]
  },
  {
   "cell_type": "markdown",
   "id": "479a2f3e-bb12-4dd3-a3a7-b35d90413c16",
   "metadata": {},
   "source": [
    "P(a<X<b)  = $\\integrate $"
   ]
  },
  {
   "cell_type": "code",
   "execution_count": 34,
   "id": "cd583f7f-e257-45d7-8706-fcc2e352de4b",
   "metadata": {
    "tags": []
   },
   "outputs": [],
   "source": [
    "# Bayes Theorem - Conditional Probabilty"
   ]
  },
  {
   "cell_type": "raw",
   "id": "c03e9f10-5313-4bab-991a-cda720a32db5",
   "metadata": {
    "tags": []
   },
   "source": [
    "P(A|B) = P(B|A). P(A)/P(B)\n",
    "\n",
    "where\n",
    "P(A|B) - probability of A happening in case B Happens\n",
    "P(B|A) - probability of B happening in case A Happens\n",
    "P(A) -  Independent probability of A\n",
    "P(B) -  Independent probability of B"
   ]
  },
  {
   "cell_type": "markdown",
   "id": "86a5ef9c-4bbf-4fd4-b17b-65be85d32fe1",
   "metadata": {},
   "source": [
    "# Inferential Statistics.\n"
   ]
  },
  {
   "cell_type": "markdown",
   "id": "f0607d3e-0304-4e2b-bfa6-a1f375c659e8",
   "metadata": {},
   "source": [
    "### Hypothesis Testing"
   ]
  },
  {
   "cell_type": "markdown",
   "id": "c7f34a04-dd3b-4420-afe0-c9f737987660",
   "metadata": {},
   "source": [
    "Hypothesis -  it is statement that proposes a possible explanation for an observed phenomenon, which can be tested through scientific methods:\n",
    "E.g.\n",
    "- Careful Experimentation\n",
    "- Correct Sampling \n",
    "- Data Collection\n",
    "- Analysis\n"
   ]
  },
  {
   "cell_type": "code",
   "execution_count": 42,
   "id": "f3e7042c-7545-400e-9fbf-bd27654ec9bc",
   "metadata": {
    "tags": []
   },
   "outputs": [],
   "source": [
    "population_mean = 30"
   ]
  },
  {
   "cell_type": "code",
   "execution_count": 36,
   "id": "8ff18800-6e8f-4aff-a567-2aef177dafd5",
   "metadata": {
    "tags": []
   },
   "outputs": [],
   "source": [
    "# Collecting Sample Data : Collected age of 20 employee"
   ]
  },
  {
   "cell_type": "code",
   "execution_count": 37,
   "id": "d76b8f59-8c76-4729-80b9-6eff1b8237ad",
   "metadata": {
    "tags": []
   },
   "outputs": [],
   "source": [
    "import pandas as pd\n",
    "import numpy as np\n",
    " "
   ]
  },
  {
   "cell_type": "code",
   "execution_count": 38,
   "id": "ee179214-b593-4f24-aa87-6480add158df",
   "metadata": {
    "tags": []
   },
   "outputs": [],
   "source": [
    "ages = pd.read_csv('Ages.csv')"
   ]
  },
  {
   "cell_type": "code",
   "execution_count": 39,
   "id": "e4341a67-c168-4fa7-8fd9-e7f2b4774e47",
   "metadata": {
    "collapsed": true,
    "jupyter": {
     "outputs_hidden": true
    },
    "tags": []
   },
   "outputs": [
    {
     "data": {
      "text/html": [
       "<div>\n",
       "<style scoped>\n",
       "    .dataframe tbody tr th:only-of-type {\n",
       "        vertical-align: middle;\n",
       "    }\n",
       "\n",
       "    .dataframe tbody tr th {\n",
       "        vertical-align: top;\n",
       "    }\n",
       "\n",
       "    .dataframe thead th {\n",
       "        text-align: right;\n",
       "    }\n",
       "</style>\n",
       "<table border=\"1\" class=\"dataframe\">\n",
       "  <thead>\n",
       "    <tr style=\"text-align: right;\">\n",
       "      <th></th>\n",
       "      <th>ages</th>\n",
       "    </tr>\n",
       "  </thead>\n",
       "  <tbody>\n",
       "    <tr>\n",
       "      <th>0</th>\n",
       "      <td>34</td>\n",
       "    </tr>\n",
       "    <tr>\n",
       "      <th>1</th>\n",
       "      <td>45</td>\n",
       "    </tr>\n",
       "    <tr>\n",
       "      <th>2</th>\n",
       "      <td>65</td>\n",
       "    </tr>\n",
       "    <tr>\n",
       "      <th>3</th>\n",
       "      <td>78</td>\n",
       "    </tr>\n",
       "    <tr>\n",
       "      <th>4</th>\n",
       "      <td>32</td>\n",
       "    </tr>\n",
       "    <tr>\n",
       "      <th>5</th>\n",
       "      <td>12</td>\n",
       "    </tr>\n",
       "    <tr>\n",
       "      <th>6</th>\n",
       "      <td>22</td>\n",
       "    </tr>\n",
       "    <tr>\n",
       "      <th>7</th>\n",
       "      <td>32</td>\n",
       "    </tr>\n",
       "    <tr>\n",
       "      <th>8</th>\n",
       "      <td>33</td>\n",
       "    </tr>\n",
       "    <tr>\n",
       "      <th>9</th>\n",
       "      <td>67</td>\n",
       "    </tr>\n",
       "    <tr>\n",
       "      <th>10</th>\n",
       "      <td>45</td>\n",
       "    </tr>\n",
       "    <tr>\n",
       "      <th>11</th>\n",
       "      <td>33</td>\n",
       "    </tr>\n",
       "    <tr>\n",
       "      <th>12</th>\n",
       "      <td>57</td>\n",
       "    </tr>\n",
       "    <tr>\n",
       "      <th>13</th>\n",
       "      <td>89</td>\n",
       "    </tr>\n",
       "    <tr>\n",
       "      <th>14</th>\n",
       "      <td>25</td>\n",
       "    </tr>\n",
       "    <tr>\n",
       "      <th>15</th>\n",
       "      <td>34</td>\n",
       "    </tr>\n",
       "    <tr>\n",
       "      <th>16</th>\n",
       "      <td>29</td>\n",
       "    </tr>\n",
       "    <tr>\n",
       "      <th>17</th>\n",
       "      <td>46</td>\n",
       "    </tr>\n",
       "    <tr>\n",
       "      <th>18</th>\n",
       "      <td>77</td>\n",
       "    </tr>\n",
       "    <tr>\n",
       "      <th>19</th>\n",
       "      <td>20</td>\n",
       "    </tr>\n",
       "  </tbody>\n",
       "</table>\n",
       "</div>"
      ],
      "text/plain": [
       "    ages\n",
       "0     34\n",
       "1     45\n",
       "2     65\n",
       "3     78\n",
       "4     32\n",
       "5     12\n",
       "6     22\n",
       "7     32\n",
       "8     33\n",
       "9     67\n",
       "10    45\n",
       "11    33\n",
       "12    57\n",
       "13    89\n",
       "14    25\n",
       "15    34\n",
       "16    29\n",
       "17    46\n",
       "18    77\n",
       "19    20"
      ]
     },
     "execution_count": 39,
     "metadata": {},
     "output_type": "execute_result"
    }
   ],
   "source": [
    "ages"
   ]
  },
  {
   "cell_type": "code",
   "execution_count": 40,
   "id": "36b5854f-f9f5-43bd-b2a0-35adc2dbe440",
   "metadata": {
    "tags": []
   },
   "outputs": [],
   "source": [
    "# State Null Hypothesis(H0) and Alternate Hypothesis(H1)"
   ]
  },
  {
   "cell_type": "markdown",
   "id": "4e676f92-9a6d-4d89-8951-b53edf6f4933",
   "metadata": {},
   "source": [
    "Null Hypothesis is a statement that confirms that there is no change in the mean value. for the current Example\n",
    "\n",
    "$ \\mu_{new} = \\mu_{old} $\n",
    "\n",
    "Alternate Hypothesis is a statement that falsify the Null Hypothesis in accordance with Hypothesis Statement\n",
    "\n",
    "$ \\mu_{new} != \\mu_{old} $"
   ]
  },
  {
   "cell_type": "raw",
   "id": "d77a24e2-bc3d-4acb-9070-47dda4ffb653",
   "metadata": {},
   "source": [
    "A Tv Commercial Will increase average monthly sales\n",
    "H0 -  No Change is average monthly sales after TV Commercial \n",
    "H1 -  New Average Monthly Sales is Greater that previous average monthly sales"
   ]
  },
  {
   "cell_type": "raw",
   "id": "a75a291b-e82e-487e-8c5d-7785d6cf3199",
   "metadata": {},
   "source": [
    "# Step 3 - State The Alpha Value - Probability of Type 1 Error, Alpha value is the threshold for concluding whether my H0 is to accepted or rejected, which is kept as either 0.01 or 0.05\n",
    "    "
   ]
  },
  {
   "cell_type": "code",
   "execution_count": 41,
   "id": "89e33ab4-d87b-4844-85dc-11811c03e4f8",
   "metadata": {
    "tags": []
   },
   "outputs": [],
   "source": [
    "alpha = 0.05"
   ]
  },
  {
   "cell_type": "raw",
   "id": "d1836992-a967-42ff-b3d3-9198e2560060",
   "metadata": {
    "tags": []
   },
   "source": [
    "#Step 4 - Calculate the sample test statistic\n",
    "\n",
    "- Ttest  --  When the sample size is less than 30 and the population std is not known\n",
    "- Ztest  --  When the sample size is greate than or equal  30 or  the population std is  known\n",
    "- Chi Sq Test\n",
    "- ANOVA Test"
   ]
  },
  {
   "cell_type": "code",
   "execution_count": 44,
   "id": "8a91c65c-800e-4b3e-a414-8dc4c880b7ff",
   "metadata": {
    "tags": []
   },
   "outputs": [],
   "source": [
    "samp_mean =  np.mean(ages.ages)"
   ]
  },
  {
   "cell_type": "code",
   "execution_count": 45,
   "id": "4a631db6-9d2c-4189-88f3-00348b39ad27",
   "metadata": {
    "tags": []
   },
   "outputs": [],
   "source": [
    "samp_std = np.std(ages.ages)"
   ]
  },
  {
   "cell_type": "code",
   "execution_count": 47,
   "id": "41f05cfa-483e-4bfd-a5b2-1805140951fc",
   "metadata": {
    "tags": []
   },
   "outputs": [],
   "source": [
    "samp_size = ages.shape[0]"
   ]
  },
  {
   "cell_type": "code",
   "execution_count": 53,
   "id": "4e437308-4cad-4b4f-9c25-c6124f383120",
   "metadata": {
    "tags": []
   },
   "outputs": [],
   "source": [
    "tteststat =  (samp_mean - population_mean)/(samp_std /np.sqrt(samp_size-1))"
   ]
  },
  {
   "cell_type": "code",
   "execution_count": 54,
   "id": "d81494cb-794f-4743-ab24-70adb596dcc6",
   "metadata": {
    "tags": []
   },
   "outputs": [
    {
     "name": "stdout",
     "output_type": "stream",
     "text": [
      "2.8550527233384186\n"
     ]
    }
   ],
   "source": [
    "print(tteststat)"
   ]
  },
  {
   "cell_type": "raw",
   "id": "312bc4ba-c75b-47c1-a694-849ffb00d2f6",
   "metadata": {},
   "source": [
    "For One Dimensional data - Degree of Freedom  = rows -1\n",
    "For Two Dimensional data  - Degree of Freedom =  (rows-1)(columns-1)"
   ]
  },
  {
   "cell_type": "code",
   "execution_count": 55,
   "id": "7ce692f3-1a57-4a92-8a38-0004ded22783",
   "metadata": {
    "tags": []
   },
   "outputs": [],
   "source": [
    "df =  samp_size-1"
   ]
  },
  {
   "cell_type": "code",
   "execution_count": 56,
   "id": "9faad31d-8ef4-45f3-8a49-1f69b1d83cef",
   "metadata": {
    "tags": []
   },
   "outputs": [],
   "source": [
    "pval = 0.011 # Found from T test Table"
   ]
  },
  {
   "cell_type": "code",
   "execution_count": 57,
   "id": "c2255073-6a72-44bc-b76a-0ac4bb5a1d73",
   "metadata": {
    "tags": []
   },
   "outputs": [],
   "source": [
    "# Step5 Take Decision"
   ]
  },
  {
   "cell_type": "code",
   "execution_count": 58,
   "id": "02cab9e7-e385-46c6-9974-5152730c7883",
   "metadata": {
    "tags": []
   },
   "outputs": [
    {
     "name": "stdout",
     "output_type": "stream",
     "text": [
      "Reject Null Hypothesis\n"
     ]
    }
   ],
   "source": [
    "if pval<alpha:\n",
    "    print(\"Reject Null Hypothesis\")\n",
    "if pval >alpha:\n",
    "    print(\"Accept Null Hypothesis\")"
   ]
  },
  {
   "cell_type": "code",
   "execution_count": 59,
   "id": "d699df88-c3d6-4537-bfa6-b6f8593188fb",
   "metadata": {
    "tags": []
   },
   "outputs": [],
   "source": [
    "from scipy.stats import ttest_1samp"
   ]
  },
  {
   "cell_type": "code",
   "execution_count": 87,
   "id": "c13cfb7e-7f0d-47b2-8a8a-bd5222c54273",
   "metadata": {
    "tags": []
   },
   "outputs": [],
   "source": [
    "tstats, pvals = ttest_1samp(ages, 55)"
   ]
  },
  {
   "cell_type": "code",
   "execution_count": 88,
   "id": "6d8db327-7883-47a2-8aa3-81ef2a922247",
   "metadata": {
    "tags": []
   },
   "outputs": [
    {
     "name": "stdout",
     "output_type": "stream",
     "text": [
      "Reject Null Hypothesis\n"
     ]
    }
   ],
   "source": [
    "if pvals<alpha:\n",
    "    print(\"Reject Null Hypothesis\")\n",
    "if pvals >alpha:\n",
    "    print(\"Accept Null Hypothesis\")"
   ]
  },
  {
   "cell_type": "code",
   "execution_count": null,
   "id": "8c7262c4-35b8-4b7c-bf88-a27a277c9f8c",
   "metadata": {},
   "outputs": [],
   "source": [
    "# ChiSq Test is applied when \n",
    "1. The data is independent\n"
   ]
  }
 ],
 "metadata": {
  "kernelspec": {
   "display_name": "Python 3 (ipykernel)",
   "language": "python",
   "name": "python3"
  },
  "language_info": {
   "codemirror_mode": {
    "name": "ipython",
    "version": 3
   },
   "file_extension": ".py",
   "mimetype": "text/x-python",
   "name": "python",
   "nbconvert_exporter": "python",
   "pygments_lexer": "ipython3",
   "version": "3.11.5"
  }
 },
 "nbformat": 4,
 "nbformat_minor": 5
}
